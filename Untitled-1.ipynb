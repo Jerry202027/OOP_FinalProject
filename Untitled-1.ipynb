{
 "cells": [
  {
   "cell_type": "code",
   "execution_count": null,
   "metadata": {},
   "outputs": [],
   "source": [
    "import os\n",
    "import time\n",
    "starttime = time.time()\n",
    "folder_path = r'C:\\Users\\s9403\\OneDrive\\桌面\\VCRbot\\img'\n",
    "count = 0\n",
    "the_file_list = []\n",
    "pre_file_list =[]\n",
    "list_of_files = os.listdir(folder_path)\n",
    "\n",
    "for file_name in list_of_files:\n",
    "    the_file_list.append(file_name)\n",
    "if len(the_file_list) != len(pre_file_list):\n",
    "    # send notify to bot\n",
    "    print(\"新照片來囉\")\n",
    "    setNow = set(the_file_list)\n",
    "    setPre = set(pre_file_list)\n",
    "    added = list(sorted(setNow - setPre))\n",
    "    print('added:',added)\n",
    "pre_file_list = the_file_list\n",
    "\n"
   ]
  },
  {
   "cell_type": "code",
   "execution_count": null,
   "metadata": {},
   "outputs": [],
   "source": [
    "pre_file_list"
   ]
  },
  {
   "cell_type": "code",
   "execution_count": null,
   "metadata": {},
   "outputs": [],
   "source": [
    "import pip._vendor.requests\n",
    "token = '5026727343:AAGHof_rWhLjKS32SV3fUo_0LY6kZc5z2eo'\n",
    "base_usrl = 'https://api.telegram.org/bot{}'.format(token)\n",
    "strcut_time = time.localtime(time.time())\n",
    "time_send = time.strftime(\"%Y-%m-%d- %H:%M\",strcut_time)\n",
    "def send_photo():\n",
    "        try:\n",
    "                payload ={\n",
    "                        \"chat_id\":\"2077239473\",\n",
    "                        #\"photo\":\"https://www.ntust.edu.tw/var/file/0/1000/img/2340/logo_20191108.png\",\n",
    "                        \"photo\":\"\\img\\10902課表 - Copy - Copy (2) - Copy - Copy.jpg\",\n",
    "                        \"caption\": time_send+\" 抓 有人沒戴口罩哦!\"\n",
    "                }\n",
    "                to_url = 'https://api.telegram.org/bot{}/sendPhoto'.format(token)\n",
    "\n",
    "                resp = pip._vendor.requests.post(to_url, data=payload)\n",
    "                print(\"send photo end\")\n",
    "        except Exception as e:\n",
    "                print(e)\n",
    "send_photo()"
   ]
  },
  {
   "cell_type": "code",
   "execution_count": null,
   "metadata": {},
   "outputs": [],
   "source": [
    "#py -m ensurepip --upgrade\n",
    "#py get-pip.py\n",
    "import telepot #py -m pip install telepot ## py -m pip install --upgrade pip ###\n",
    "\n",
    "strcut_time = time.localtime(time.time())\n",
    "time_send = time.strftime(\"%Y-%m-%d- %H:%M\",strcut_time)\n",
    "bot = telepot.Bot('5026727343:AAGHof_rWhLjKS32SV3fUo_0LY6kZc5z2eo')\n",
    "bot.sendPhoto('2077239473', photo=open('img/aa.jpg', 'rb'),caption= time_send+\" 抓 有人沒戴口罩!\")"
   ]
  },
  {
   "cell_type": "code",
   "execution_count": null,
   "metadata": {},
   "outputs": [],
   "source": [
    "import os\n",
    "import time\n",
    "import telepot\n",
    "starttime = time.time()\n",
    "folder_path = r'C:\\Users\\s9403\\OneDrive\\桌面\\VCRbot\\img'\n",
    "count = 0\n",
    "the_file_list = []\n",
    "pre_file_list =[]\n",
    "\n",
    "while True:\n",
    "    the_file_list = []\n",
    "    list_of_files = os.listdir(folder_path)\n",
    "    for file_name in list_of_files:\n",
    "        the_file_list.append(file_name)\n",
    "    if len(the_file_list) != len(pre_file_list):\n",
    "        # send notify to bot\n",
    "        print(\"新照片來囉\")\n",
    "        setNow = set(the_file_list)\n",
    "        setPre = set(pre_file_list)\n",
    "        added = list(sorted(setNow - setPre))\n",
    "        print('added:',added[0])\n",
    "\n",
    "        strcut_time = time.localtime(time.time())\n",
    "        time_send = time.strftime(\"%Y-%m-%d- %H:%M\",strcut_time)\n",
    "        bot = telepot.Bot('5026727343:AAGHof_rWhLjKS32SV3fUo_0LY6kZc5z2eo')\n",
    "        bot.sendPhoto('2077239473', photo=open('img/'+added[0], 'rb'),caption= time_send+\" 抓 有人沒戴口罩!\")\n",
    "\n",
    "    pre_file_list = the_file_list\n",
    "    time.sleep(3.0 - (time.time() - starttime) % 3.0) # wait for 1s\n",
    "    \n"
   ]
  },
  {
   "cell_type": "code",
   "execution_count": null,
   "metadata": {},
   "outputs": [],
   "source": []
  }
 ],
 "metadata": {
  "interpreter": {
   "hash": "c3ca9d12b853174e1c36dc9fb764d8f0844f855990e26942f98390f2c994cad3"
  },
  "kernelspec": {
   "display_name": "Python 3.9.9 64-bit",
   "language": "python",
   "name": "python3"
  },
  "language_info": {
   "codemirror_mode": {
    "name": "ipython",
    "version": 3
   },
   "file_extension": ".py",
   "mimetype": "text/x-python",
   "name": "python",
   "nbconvert_exporter": "python",
   "pygments_lexer": "ipython3",
   "version": "3.9.9"
  },
  "metadata": {
   "interpreter": {
    "hash": "c3ca9d12b853174e1c36dc9fb764d8f0844f855990e26942f98390f2c994cad3"
   }
  },
  "orig_nbformat": 2
 },
 "nbformat": 4,
 "nbformat_minor": 2
}
